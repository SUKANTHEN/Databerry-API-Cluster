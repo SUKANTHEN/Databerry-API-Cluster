{
  "nbformat": 4,
  "nbformat_minor": 0,
  "metadata": {
    "colab": {
      "name": "DataBerry Cluster API Demo",
      "provenance": [],
      "collapsed_sections": []
    },
    "kernelspec": {
      "name": "python3",
      "display_name": "Python 3"
    },
    "language_info": {
      "name": "python"
    }
  },
  "cells": [
    {
      "cell_type": "code",
      "execution_count": 1,
      "metadata": {
        "id": "4ya9Hd1AU4lZ"
      },
      "outputs": [],
      "source": [
        "import requests"
      ]
    },
    {
      "cell_type": "code",
      "source": [
        "UserID = \"Enter your UserID\"\n",
        "Key = \"Enter your Authentication Key\""
      ],
      "metadata": {
        "id": "-NzYeZ8VbBHG"
      },
      "execution_count": 2,
      "outputs": []
    },
    {
      "cell_type": "markdown",
      "source": [
        "# Detoxifier API\n",
        "DataBerry API Cluster to `detoxify` toxic comments to normal healthy comments."
      ],
      "metadata": {
        "id": "sCwGHJtuWiwU"
      }
    },
    {
      "cell_type": "code",
      "source": [
        "ass = \"\"\" Hi MoRON, Hope you are doing good !! But you retards are good programmers, just drink some coffee and start to code buddies !! \"\"\"\n",
        "msg = {\"text\": ass}"
      ],
      "metadata": {
        "id": "tiAWNp9yVnZ1"
      },
      "execution_count": 3,
      "outputs": []
    },
    {
      "cell_type": "code",
      "source": [
        "url = \"https://databerrycluster.herokuapp.com/detoxify\"\n",
        "# Post your Input JSON Query\n",
        "r = requests.post(url,json=msg,auth=(UserID,Key))\n",
        "print(r.json())"
      ],
      "metadata": {
        "colab": {
          "base_uri": "https://localhost:8080/"
        },
        "id": "fEVHvOo6VjXC",
        "outputId": "6a44bf0d-4cf7-4378-9bbf-069bcdb3ec55"
      },
      "execution_count": 4,
      "outputs": [
        {
          "output_type": "stream",
          "name": "stdout",
          "text": [
            "{'cleaned_text': ' Hi *****, Hope you are doing good !! But you retards are good programmers, just drink some coffee and start to code buddies !! '}\n"
          ]
        }
      ]
    },
    {
      "cell_type": "markdown",
      "source": [
        "# Text Quality Analysis API"
      ],
      "metadata": {
        "id": "0ilkXmXvYFlY"
      }
    },
    {
      "cell_type": "code",
      "source": [
        "input_query = \"The patient ordered a pizza and soon after fuck eating it went to ICU in the most dreadfully horrible way and much more story to go.\"\n",
        "msg = {\"text\":input_query}"
      ],
      "metadata": {
        "id": "UPN458HTYoIy"
      },
      "execution_count": 5,
      "outputs": []
    },
    {
      "cell_type": "code",
      "source": [
        "url = \"https://databerrycluster.herokuapp.com/text_quality\"\n",
        "r = requests.post(url,json=msg,auth=(UserID,Key))\n",
        "print(r.json())"
      ],
      "metadata": {
        "colab": {
          "base_uri": "https://localhost:8080/"
        },
        "id": "RmzFDGUZYb4X",
        "outputId": "49a138a1-1698-4676-b970-1e788f0b876f"
      },
      "execution_count": 6,
      "outputs": [
        {
          "output_type": "stream",
          "name": "stdout",
          "text": [
            "{'count_of_words': 27, 'count_unique_words': 25, 'language': 'english', 'query_length': 132, 'toxicity': 1}\n"
          ]
        }
      ]
    },
    {
      "cell_type": "markdown",
      "source": [
        "# Personal Identifier API"
      ],
      "metadata": {
        "id": "OSz2PqSDZRAw"
      }
    },
    {
      "cell_type": "code",
      "source": [
        "input_query = \"I am Sukanthen, developer of DataBerry Cluster API architectured on Dec 15 2021, at Coimbatore. If any queries mail me @ sukanthen1999@gmail.com or +1-541-754-3010\"\n",
        "msg = {\"text\":input_query}"
      ],
      "metadata": {
        "id": "0UdiPHpRZVmR"
      },
      "execution_count": 7,
      "outputs": []
    },
    {
      "cell_type": "code",
      "source": [
        "url = \"https://databerrycluster.herokuapp.com/personal_identifier\"\n",
        "r = requests.post(url,json=msg,auth=(UserID,Key))\n",
        "print(r.json())"
      ],
      "metadata": {
        "colab": {
          "base_uri": "https://localhost:8080/"
        },
        "id": "OxdxiRR0Zup4",
        "outputId": "d2ba9be3-cd55-4194-8d87-47a1e8ad4330"
      },
      "execution_count": 8,
      "outputs": [
        {
          "output_type": "stream",
          "name": "stdout",
          "text": [
            "{'dates': '2021-12-15', 'email': 'sukanthen1999@gmail.com', 'gender': '', 'phone_number': '+1-541-754-3010'}\n"
          ]
        }
      ]
    },
    {
      "cell_type": "markdown",
      "source": [
        "# Data Cleaner API"
      ],
      "metadata": {
        "id": "Fxh8COToc0A_"
      }
    },
    {
      "cell_type": "code",
      "source": [
        "wiki_data = \"\"\" <p><b>Ratan Naval Tata</b> (Hindi: रतन टाटा, Ratan Ṭāṭā, born 28 December 1937) is an Indian <a href=\"/wiki/Business_magnate\" title=\"Business magnate\">industrialist</a>, philanthropist, and a former chairman of <a href=\"/wiki/Tata_Sons\" title=\"Tata Sons\">Tata Sons</a>. He was also chairman of <a href=\"/wiki/Tata_Group\" title=\"Tata Group\">Tata Group</a>, from 1990 to 2012, and again, as interim chairman, from October 2016 through February 2017, and continues to head its charitable trusts.<sup id=\"cite_ref-3\" class=\"reference\"><a href=\"#cite_note-3\">&#91;3&#93;</a></sup><sup id=\"cite_ref-4\" class=\"reference\"><a href=\"#cite_note-4\">&#91;4&#93;</a></sup> He is the recipient of two of the highest civilian awards of India, the <a href=\"/wiki/Padma_Vibhushan\" title=\"Padma Vibhushan\">Padma Vibhushan</a> (2008) and <a href=\"/wiki/Padma_Bhushan\" title=\"Padma Bhushan\">Padma Bhushan</a> (2000).<sup id=\"cite_ref-List_of_Fellows_5-0\" class=\"reference\"><a href=\"#cite_note-List_of_Fellows-5\">&#91;5&#93;</a></sup>\n",
        "</p><p>Born in 1937, he is a scion of the <a href=\"/wiki/Tata_family\" title=\"Tata family\">Tata family</a>, and son of <a href=\"/wiki/Naval_Tata\" title=\"Naval Tata\">Naval Tata</a> who was later adopted by <a href=\"/wiki/Ratanji_Tata\" title=\"Ratanji Tata\">Ratanji Tata</a>, son of <a href=\"/wiki/Jamsetji_Tata\" title=\"Jamsetji Tata\">Jamsetji Tata</a>, the founder of <a href=\"/wiki/Tata_Group\" title=\"Tata Group\">Tata Group</a>. He is an alumnus of the <a href=\"/wiki/Cornell_University_College_of_Architecture,_Art,_and_Planning\" title=\"Cornell University College of Architecture, Art, and Planning\">Cornell University College of Architecture</a> and Harvard Business School through the Advanced Management Program that he completed in 1975.<sup id=\"cite_ref-6\" class=\"reference\"><a href=\"#cite_note-6\">&#91;6&#93;</a></sup> He joined his company in 1961 when he used to work on the shop floor of Tata Steel, and was the apparent successor to <a href=\"/wiki/J._R._D._Tata\" title=\"J. R. D. Tata\">J. R. D. Tata</a> upon the latter's retirement in 1991. He got <a href=\"/wiki/Tata_Global_Beverages\" class=\"mw-redirect\" title=\"Tata Global Beverages\">Tata Tea</a> to acquire <a href=\"/wiki/Tetley\" title=\"Tetley\">Tetley</a>, <a href=\"/wiki/Tata_Motors\" title=\"Tata Motors\">Tata Motors</a> to acquire <a href=\"/wiki/Jaguar_Land_Rover\" title=\"Jaguar Land Rover\">Jaguar Land Rover</a>, and <a href=\"/wiki/Tata_Steel\" title=\"Tata Steel\">Tata Steel</a> to acquire <a href=\"/wiki/Corus_Group_plc\" class=\"mw-redirect\" title=\"Corus Group plc\">Corus</a>, in an attempt to turn Tata from a largely India-centrist group into a global business.\n",
        "</p>\n",
        "<link rel=\"mw-deduplicated-inline-style\" href=\"mw-data:TemplateStyles:r1033289096\"/><div role=\"note\" class=\"hatnote navigation-not-searchable\">Main article: <a href=\"/wiki/Tata_family\" title=\"Tata family\">Tata family</a></div>\n",
        "<p>Ratan Tata was born in Bombay, now Mumbai, on 28 December 1937,<sup id=\"cite_ref-7\" class=\"reference\"><a href=\"#cite_note-7\">&#91;7&#93;</a></sup> and is the son of <a href=\"/wiki/Naval_Tata\" title=\"Naval Tata\">Naval Tata</a> (born in <a href=\"/wiki/Surat\" title=\"Surat\">Surat</a>). His biological maternal grandmother had been the sister of <a href=\"/wiki/Herabai_Tata\" title=\"Herabai Tata\">Hirabai Tata</a>, wife of group founder <a href=\"/wiki/Jamsetji_Tata\" title=\"Jamsetji Tata\">Jamsetji Tata</a>. His biological grandfather, Hormusji Tata, had belonged to the broader Tata family; Ratan therefore was a Tata by birth. Parents Naval and Sonoo separated in 1948 when Ratan was 10, and he was subsequently raised by the widow of Sir Ratanji Tata, his grandmother, <a href=\"/wiki/Tata_family\" title=\"Tata family\">Navajbai Tata</a>, who formally adopted him through the J. N. Petit Parsi Orphanage.<sup id=\"cite_ref-8\" class=\"reference\"><a href=\"#cite_note-8\">&#91;8&#93;</a></sup> He has a half-brother, <a href=\"/wiki/Noel_Tata\" title=\"Noel Tata\">Noel Tata</a> (from Naval Tata's second marriage with <a href=\"/wiki/Simone_Tata\" title=\"Simone Tata\">Simone Tata</a>), with whom he was raised. His first language is <a href=\"/wiki/Gujarati_language\" title=\"Gujarati language\">Gujarati</a>.<sup id=\"cite_ref-9\" class=\"reference\"><a href=\"#cite_note-9\">&#91;9&#93;</a></sup>\n",
        "</p><p>He studied at the <a href=\"/wiki/Campion_School,_Mumbai\" title=\"Campion School, Mumbai\">Campion School, Mumbai</a> till the 8th class, followed by <a href=\"/wiki/Cathedral_and_John_Connon_School\" title=\"Cathedral and John Connon School\">Cathedral and John Connon School</a>, <a href=\"/wiki/Mumbai\" title=\"Mumbai\">Mumbai</a> and at <a href=\"/wiki/Bishop_Cotton_School_(Shimla)\" title=\"Bishop Cotton School (Shimla)\">Bishop Cotton School</a> in <a href=\"/wiki/Shimla\" title=\"Shimla\">Shimla</a>,<sup id=\"cite_ref-toitataschool_10-0\" class=\"reference\"><a href=\"#cite_note-toitataschool-10\">&#91;10&#93;</a></sup> and, in 1955, graduated from <a href=\"/wiki/Riverdale_Country_School\" title=\"Riverdale Country School\">Riverdale Country School</a> in New York City.<sup id=\"cite_ref-11\" class=\"reference\"><a href=\"#cite_note-11\">&#91;11&#93;</a></sup><sup id=\"cite_ref-12\" class=\"reference\"><a href=\"#cite_note-12\">&#91;12&#93;</a></sup> In 1959, he then received a degree in Architecture from <a href=\"/wiki/Cornell_University\" title=\"Cornell University\">Cornell University</a>, and in 1975, attended the seven-week Advanced Management Program of <a href=\"/wiki/Harvard_Business_School\" title=\"Harvard Business School\">Harvard Business School</a> — an institution which he has since endowed.<sup id=\"cite_ref-13\" class=\"reference\"><a href=\"#cite_note-13\">&#91;13&#93;</a></sup><sup id=\"cite_ref-Tata_Hall_HBS_Named_14-0\" class=\"reference\"><a href=\"#cite_note-Tata_Hall_HBS_Named-14\">&#91;14&#93;</a></sup>\n",
        "</p><p>Promoted to management during the 1970s, Ratan achieved initial success by turning Group company National Radio and Electronics (NELCO) around, only to see it collapse during an economic slowdown.<sup id=\"cite_ref-BS_15-0\" class=\"reference\"><a href=\"#cite_note-BS-15\">&#91;15&#93;</a></sup><sup id=\"cite_ref-16\" class=\"reference\"><a href=\"#cite_note-16\">&#91;16&#93;</a></sup> In 1991, <a href=\"/wiki/J._R._D._Tata\" title=\"J. R. D. Tata\">J. R. D. Tata</a> stepped down as chairman of Tata Sons, naming him his successor. When he settled down into the new role, he faced stiff resistance from many companies heads, some of whom had spent decades in their respective companies and rose to become very powerful and influential due to the freedom to operate under JRD Tata. He began replacing them by setting a retirement age, and then made individual companies report operationally to the group office and made each contribute some of their profit to build and use the Tata group brand. Innovation was given priority and younger talent was infused and given responsibilities.<sup id=\"cite_ref-ChrisDeresky_17-0\" class=\"reference\"><a href=\"#cite_note-ChrisDeresky-17\">&#91;17&#93;</a></sup> Under his stewardship, overlapping operations in group companies were streamlined into a synergised whole,<sup id=\"cite_ref-18\" class=\"reference\"><a href=\"#cite_note-18\">&#91;18&#93;</a></sup> with the salt-to-software group exiting unrelated businesses to take on globalisation.\n",
        "</p>  \"\"\""
      ],
      "metadata": {
        "id": "z2yDSC9GCI5T"
      },
      "execution_count": 9,
      "outputs": []
    },
    {
      "cell_type": "code",
      "source": [
        "msg = {\n",
        "\t\"text\":wiki_data,\n",
        "\t\"remove_html\":\"True\",\n",
        "\t\"remove_stopwords\":\"False\",\n",
        "\t\"stopwords_list\":\"None\"\n",
        "}"
      ],
      "metadata": {
        "id": "OE-1CxQHc3Ql"
      },
      "execution_count": 10,
      "outputs": []
    },
    {
      "cell_type": "markdown",
      "source": [
        "Remove only `html` tags"
      ],
      "metadata": {
        "id": "Zgs3bVKgCAD2"
      }
    },
    {
      "cell_type": "code",
      "source": [
        "url = \"https://databerrycluster.herokuapp.com/datacleaner\"\n",
        "r = requests.post(url,json=msg,auth=(UserID,Key))\n",
        "print(r.json())"
      ],
      "metadata": {
        "colab": {
          "base_uri": "https://localhost:8080/"
        },
        "id": "erU1Wk-4c_zE",
        "outputId": "880b0aca-2999-4ab7-8f7e-0ed71823578d"
      },
      "execution_count": 11,
      "outputs": [
        {
          "output_type": "stream",
          "name": "stdout",
          "text": [
            "{'cleaned_text': \" Ratan Naval Tata (Hindi: रतन टाटा, Ratan Ṭāṭā, born 28 December 1937) is an Indian industrialist, philanthropist, and a former chairman of Tata Sons. He was also chairman of Tata Group, from 1990 to 2012, and again, as interim chairman, from October 2016 through February 2017, and continues to head its charitable trusts.&#91;3&#93;&#91;4&#93; He is the recipient of two of the highest civilian awards of India, the Padma Vibhushan (2008) and Padma Bhushan (2000).&#91;5&#93;\\nBorn in 1937, he is a scion of the Tata family, and son of Naval Tata who was later adopted by Ratanji Tata, son of Jamsetji Tata, the founder of Tata Group. He is an alumnus of the Cornell University College of Architecture and Harvard Business School through the Advanced Management Program that he completed in 1975.&#91;6&#93; He joined his company in 1961 when he used to work on the shop floor of Tata Steel, and was the apparent successor to J. R. D. Tata upon the latter's retirement in 1991. He got Tata Tea to acquire Tetley, Tata Motors to acquire Jaguar Land Rover, and Tata Steel to acquire Corus, in an attempt to turn Tata from a largely India-centrist group into a global business.\\n\\nMain article: Tata family\\nRatan Tata was born in Bombay, now Mumbai, on 28 December 1937,&#91;7&#93; and is the son of Naval Tata (born in Surat). His biological maternal grandmother had been the sister of Hirabai Tata, wife of group founder Jamsetji Tata. His biological grandfather, Hormusji Tata, had belonged to the broader Tata family; Ratan therefore was a Tata by birth. Parents Naval and Sonoo separated in 1948 when Ratan was 10, and he was subsequently raised by the widow of Sir Ratanji Tata, his grandmother, Navajbai Tata, who formally adopted him through the J. N. Petit Parsi Orphanage.&#91;8&#93; He has a half-brother, Noel Tata (from Naval Tata's second marriage with Simone Tata), with whom he was raised. His first language is Gujarati.&#91;9&#93;\\nHe studied at the Campion School, Mumbai till the 8th class, followed by Cathedral and John Connon School, Mumbai and at Bishop Cotton School in Shimla,&#91;10&#93; and, in 1955, graduated from Riverdale Country School in New York City.&#91;11&#93;&#91;12&#93; In 1959, he then received a degree in Architecture from Cornell University, and in 1975, attended the seven-week Advanced Management Program of Harvard Business School — an institution which he has since endowed.&#91;13&#93;&#91;14&#93;\\nPromoted to management during the 1970s, Ratan achieved initial success by turning Group company National Radio and Electronics (NELCO) around, only to see it collapse during an economic slowdown.&#91;15&#93;&#91;16&#93; In 1991, J. R. D. Tata stepped down as chairman of Tata Sons, naming him his successor. When he settled down into the new role, he faced stiff resistance from many companies heads, some of whom had spent decades in their respective companies and rose to become very powerful and influential due to the freedom to operate under JRD Tata. He began replacing them by setting a retirement age, and then made individual companies report operationally to the group office and made each contribute some of their profit to build and use the Tata group brand. Innovation was given priority and younger talent was infused and given responsibilities.&#91;17&#93; Under his stewardship, overlapping operations in group companies were streamlined into a synergised whole,&#91;18&#93; with the salt-to-software group exiting unrelated businesses to take on globalisation.\\n  \"}\n"
          ]
        }
      ]
    },
    {
      "cell_type": "markdown",
      "source": [
        "Remove Default Stopwords\n",
        "\n",
        "\n",
        "*   Default Stopwords are : ['i', 'me', 'my', 'myself', 'we', 'our', 'ours', 'ourselves', 'you', \"you're\", \"you've\", \"you'll\", \"you'd\", 'your', 'yours', 'yourself', 'yourselves', 'he', 'him', 'his', 'himself', 'she', \"she's\", 'her', 'hers', 'herself', 'it', \"it's\", 'its', 'itself', 'they', 'them', 'their', 'theirs', 'themselves', 'what', 'which', 'who', 'whom', 'this', 'that', \"that'll\", 'these', 'those', 'am', 'is', 'are', 'was', 'were', 'be', 'been', 'being', 'have', 'has', 'had', 'having', 'do', 'does', 'did', 'doing', 'a', 'an', 'the', 'and', 'but', 'if', 'or', 'because', 'as', 'until', 'while', 'of', 'at', 'by', 'for', 'with', 'about', 'against', 'between', 'into', 'through', 'during', 'before', 'after', 'above', 'below', 'to', 'from', 'up', 'down', 'in', 'out', 'on', 'off', 'over', 'under', 'again', 'further', 'then', 'once', 'here', 'there', 'when', 'where', 'why', 'how', 'all', 'any', 'both', 'each', 'few', 'more', 'most', 'other', 'some', 'such', 'no', 'nor', 'not', 'only', 'own', 'same', 'so', 'than', 'too', 'very', 's', 't', 'can', 'will', 'just', 'don', \"don't\", 'should', \"should've\", 'now', 'd', 'll', 'm', 'o', 're', 've', 'y', 'ain', 'aren', \"aren't\", 'couldn', \"couldn't\", 'didn', \"didn't\", 'doesn', \"doesn't\", 'hadn', \"hadn't\", 'hasn', \"hasn't\", 'haven', \"haven't\", 'isn', \"isn't\", 'ma', 'mightn', \"mightn't\", 'mustn', \"mustn't\", 'needn', \"needn't\", 'shan', \"shan't\", 'shouldn', \"shouldn't\", 'wasn', \"wasn't\", 'weren', \"weren't\", 'won', \"won't\", 'wouldn', \"wouldn't\"]\n",
        "\n"
      ],
      "metadata": {
        "id": "jjwZSOE7F2sc"
      }
    },
    {
      "cell_type": "code",
      "source": [
        "msg = {\"text\":\"I am Sukanthen, I am a problem solver.\",\n",
        "       \"remove_html\":\"False\",\n",
        "       \"remove_stopwords\":\"True\",\n",
        "       \"stopwords_list\":\"None\"\n",
        "}\n",
        "url = \"https://databerrycluster.herokuapp.com/datacleaner\"\n",
        "r = requests.post(url,json=msg,auth=(UserID,Key))\n",
        "print(r.json())"
      ],
      "metadata": {
        "colab": {
          "base_uri": "https://localhost:8080/"
        },
        "id": "xexV2niaGwll",
        "outputId": "36efbd9c-fe66-40c9-cbe1-cf73c7fc6a75"
      },
      "execution_count": 12,
      "outputs": [
        {
          "output_type": "stream",
          "name": "stdout",
          "text": [
            "{'cleaned_text': 'Sukanthen , problem solver .'}\n"
          ]
        }
      ]
    },
    {
      "cell_type": "markdown",
      "source": [
        "Remove User-defined/Custom words to remove"
      ],
      "metadata": {
        "id": "af33bm4WImDj"
      }
    },
    {
      "cell_type": "code",
      "source": [
        "msg = {\"text\":\"Hey, I love apples.\",\n",
        "       \"remove_html\":\"False\",\n",
        "       \"remove_stopwords\":\"True\",\n",
        "       \"stopwords_list\":[\"apples\",\"hey\"]\n",
        "}\n",
        "url = \"https://databerrycluster.herokuapp.com/datacleaner\"\n",
        "r = requests.post(url,json=msg,auth=(UserID,Key))\n",
        "print(r.json())"
      ],
      "metadata": {
        "colab": {
          "base_uri": "https://localhost:8080/"
        },
        "id": "Vsco7gknKn5_",
        "outputId": "d04f17b7-9b25-4497-b146-257b52efa3e4"
      },
      "execution_count": 13,
      "outputs": [
        {
          "output_type": "stream",
          "name": "stdout",
          "text": [
            "{'cleaned_text': ', I love .'}\n"
          ]
        }
      ]
    },
    {
      "cell_type": "markdown",
      "source": [
        "# Translater API"
      ],
      "metadata": {
        "id": "zUTTjpkEbIB4"
      }
    },
    {
      "cell_type": "code",
      "source": [
        "input_query = \"이 문장은 한글로 쓰여졌습니다.\"\n",
        "msg = {\"text\":input_query,\"output_language\":\"en\"}"
      ],
      "metadata": {
        "id": "Wall9e2DbYTo"
      },
      "execution_count": 14,
      "outputs": []
    },
    {
      "cell_type": "code",
      "source": [
        "url = \"https://databerrycluster.herokuapp.com/translate\"\n",
        "r = requests.post(url,json=msg,auth=(UserID,Key))\n",
        "print(r.json())"
      ],
      "metadata": {
        "colab": {
          "base_uri": "https://localhost:8080/"
        },
        "id": "aGZpR31NbLK7",
        "outputId": "54f0284d-1971-4b36-e45e-5f27849ee2a4"
      },
      "execution_count": 15,
      "outputs": [
        {
          "output_type": "stream",
          "name": "stdout",
          "text": [
            "{'pronunciation': '-', 'translated_text': '{ERROR: We are not able to handle your request right now}'}\n"
          ]
        }
      ]
    }
  ]
}